{
 "cells": [
  {
   "cell_type": "markdown",
   "metadata": {},
   "source": [
    "# Model"
   ]
  },
  {
   "cell_type": "markdown",
   "metadata": {
    "toc": true
   },
   "source": []
  },
  {
   "cell_type": "code",
   "execution_count": 1,
   "metadata": {},
   "outputs": [],
   "source": [
    "from pandas import DataFrame, read_csv\n",
    "from sklearn.pipeline import Pipeline\n",
    "from sklearn.impute import SimpleImputer\n",
    "from sklearn.preprocessing import (StandardScaler, LabelEncoder,\n",
    "                                   OneHotEncoder, OrdinalEncoder, FunctionTransformer,\n",
    "                                   PowerTransformer)\n",
    "from sklearn.compose import ColumnTransformer\n",
    "from sklearn.linear_model import Ridge\n",
    "from sklearn.metrics import r2_score, mean_squared_error\n",
    "import seaborn as sns\n",
    "\n",
    "import numpy as np"
   ]
  },
  {
   "cell_type": "code",
   "execution_count": 2,
   "metadata": {},
   "outputs": [],
   "source": [
    "df_full = read_csv('annonces_features.csv', index_col = 0)\n",
    "df_full = df_full.drop(['Unnamed: 18','Unnamed: 19','Unnamed: 20'], axis=1)"
   ]
  },
  {
   "cell_type": "code",
   "execution_count": 7,
   "metadata": {},
   "outputs": [
    {
     "data": {
      "text/plain": [
       "idannonce             int64\n",
       "typedebien           object\n",
       "typedetransaction    object\n",
       "codepostal            int64\n",
       "ville                object\n",
       "etage                 int64\n",
       "idtypechauffage      object\n",
       "idtypecuisine        object\n",
       "naturebien            int64\n",
       "si_balcon             int64\n",
       "nb_chambres           int64\n",
       "nb_pieces             int64\n",
       "si_sdbain             int64\n",
       "si_sdEau              int64\n",
       "nb_photos             int64\n",
       "prix                  int64\n",
       "surface               int64\n",
       "dtype: object"
      ]
     },
     "execution_count": 7,
     "metadata": {},
     "output_type": "execute_result"
    }
   ],
   "source": [
    "df_full.dtypes"
   ]
  },
  {
   "cell_type": "markdown",
   "metadata": {},
   "source": [
    "## Cleaning"
   ]
  },
  {
   "cell_type": "code",
   "execution_count": 3,
   "metadata": {},
   "outputs": [
    {
     "data": {
      "text/plain": [
       "Index(['idannonce', 'typedebien', 'typedetransaction', 'codepostal', 'ville',\n",
       "       'etage', 'idtypechauffage', 'idtypecuisine', 'naturebien', 'si_balcon',\n",
       "       'nb_chambres', 'nb_pieces', 'si_sdbain', 'si_sdEau', 'nb_photos',\n",
       "       'prix', 'surface'],\n",
       "      dtype='object')"
      ]
     },
     "execution_count": 3,
     "metadata": {},
     "output_type": "execute_result"
    }
   ],
   "source": [
    "df_full.columns"
   ]
  },
  {
   "cell_type": "code",
   "execution_count": 4,
   "metadata": {},
   "outputs": [],
   "source": [
    "chauffageNArows = df_full['idtypechauffage'] == 0\n",
    "df_full.loc[chauffageNArows,'idtypechauffage'] = np.nan"
   ]
  },
  {
   "cell_type": "code",
   "execution_count": 5,
   "metadata": {},
   "outputs": [],
   "source": [
    "codpostal33rows = df_full['codepostal'] == 33\n",
    "df_full.loc[codpostal33rows,'codepostal'] = 33000"
   ]
  },
  {
   "cell_type": "code",
   "execution_count": 6,
   "metadata": {},
   "outputs": [],
   "source": [
    "cuisineNArows = df_full['idtypecuisine'] == 0\n",
    "df_full.loc[cuisineNArows,'idtypecuisine'] = np.nan"
   ]
  },
  {
   "cell_type": "code",
   "execution_count": 7,
   "metadata": {},
   "outputs": [],
   "source": [
    "df_full['surface'] = df_full['surface'].astype(float)"
   ]
  },
  {
   "cell_type": "markdown",
   "metadata": {},
   "source": [
    "## Pipeline"
   ]
  },
  {
   "cell_type": "code",
   "execution_count": 8,
   "metadata": {},
   "outputs": [],
   "source": [
    "categoricals = ['typedebien', 'typedetransaction', 'ville','idtypechauffage', 'idtypecuisine', 'naturebien', 'codepostal']\n",
    "binaries = ['si_balcon','si_sdbain','si_sdEau']\n",
    "numericals = ['nb_chambres', 'nb_pieces', 'nb_photos', 'etage', 'surface']\n"
   ]
  },
  {
   "cell_type": "markdown",
   "metadata": {},
   "source": [
    "### Categorical features"
   ]
  },
  {
   "cell_type": "code",
   "execution_count": 9,
   "metadata": {},
   "outputs": [
    {
     "name": "stdout",
     "output_type": "stream",
     "text": [
      "['Maison / Villa' 'Hôtel particulier']\n",
      "[\"['vente']\" \"['vente de prestige']\" '[\"produit d\\'investissement\"]']\n",
      "['bordeaux' 'bordeaux-cauderan']\n",
      "['gaz' 'individuel électrique' 'gaz radiateur' '0'\n",
      " 'climatisation réversible' 'individuel gaz' 'électrique mixte'\n",
      " 'individuel gaz sol' 'individuel' 'électrique'\n",
      " 'individuel électrique radiateur' 'sol' 'individuel gaz radiateur'\n",
      " 'climatisation réversible individuelle' 'central' '24704'\n",
      " 'individuel fuel radiateur' 'central radiateur' 'électrique radiateur'\n",
      " 'fuel radiateur' 'individuel sol' 'individuel gaz mixte']\n",
      "['équipée' 'américaine équipée' 'séparée' 'aucune' '0' 'séparée équipée'\n",
      " 'américaine' 'coin cuisine' 'coin cuisine équipé']\n",
      "[1 3 2]\n",
      "[33000 33200 33300 33800 33100 33700 33110]\n"
     ]
    }
   ],
   "source": [
    "for col in categoricals:\n",
    "    print(df_full[col].unique())"
   ]
  },
  {
   "cell_type": "code",
   "execution_count": 10,
   "metadata": {},
   "outputs": [],
   "source": [
    "categorical_pipe = Pipeline([\n",
    "    ('imputer', SimpleImputer(strategy='most_frequent')),\n",
    "    ('onehot', OneHotEncoder(handle_unknown=\"ignore\"))\n",
    "])"
   ]
  },
  {
   "cell_type": "markdown",
   "metadata": {},
   "source": [
    "### Binary features"
   ]
  },
  {
   "cell_type": "code",
   "execution_count": 11,
   "metadata": {},
   "outputs": [
    {
     "name": "stdout",
     "output_type": "stream",
     "text": [
      "[0 1]\n",
      "[1 0]\n",
      "[0 1]\n"
     ]
    }
   ],
   "source": [
    "for col in binaries:\n",
    "    print(df_full[col].unique())"
   ]
  },
  {
   "cell_type": "code",
   "execution_count": 12,
   "metadata": {},
   "outputs": [],
   "source": [
    "binary_pipe = Pipeline([\n",
    "    ('imputer', SimpleImputer(strategy='most_frequent'))\n",
    "])"
   ]
  },
  {
   "cell_type": "markdown",
   "metadata": {},
   "source": [
    "### Numerical features"
   ]
  },
  {
   "cell_type": "code",
   "execution_count": 13,
   "metadata": {},
   "outputs": [],
   "source": [
    "numerical_pipe = Pipeline([\n",
    "    ('imputer', SimpleImputer(strategy='most_frequent')),\n",
    "    ('scaler', StandardScaler())\n",
    "])"
   ]
  },
  {
   "cell_type": "markdown",
   "metadata": {},
   "source": [
    "### preprocessing pipe"
   ]
  },
  {
   "cell_type": "code",
   "execution_count": 14,
   "metadata": {},
   "outputs": [],
   "source": [
    "preprocess_pipe = ColumnTransformer([\n",
    "    ('cat', categorical_pipe, categoricals),\n",
    "    ('num', numerical_pipe, numericals),\n",
    "    ('ord', binary_pipe, binaries)\n",
    "])"
   ]
  },
  {
   "cell_type": "markdown",
   "metadata": {},
   "source": [
    "### regression model"
   ]
  },
  {
   "cell_type": "code",
   "execution_count": 15,
   "metadata": {},
   "outputs": [],
   "source": [
    "r = Ridge()"
   ]
  },
  {
   "cell_type": "code",
   "execution_count": 16,
   "metadata": {},
   "outputs": [],
   "source": [
    "model = Pipeline([\n",
    "    ('pre', preprocess_pipe),\n",
    "    ('reg', regressor)\n",
    "])"
   ]
  },
  {
   "cell_type": "code",
   "execution_count": 17,
   "metadata": {},
   "outputs": [],
   "source": [
    "from sklearn.model_selection import train_test_split\n",
    "target_column = \"prix\"\n",
    "\n",
    "X_fulltrain = df_full.drop(target_column, axis=1)\n",
    "y_fulltrain = df_full[target_column]\n",
    "\n",
    "X_train, X_valid, y_train, y_valid = train_test_split(X_fulltrain, y_fulltrain, test_size=0.2, random_state=42)"
   ]
  },
  {
   "cell_type": "markdown",
   "metadata": {},
   "source": [
    "## Training and evaluation"
   ]
  },
  {
   "cell_type": "code",
   "execution_count": 18,
   "metadata": {},
   "outputs": [
    {
     "data": {
      "text/html": [
       "<div>\n",
       "<style scoped>\n",
       "    .dataframe tbody tr th:only-of-type {\n",
       "        vertical-align: middle;\n",
       "    }\n",
       "\n",
       "    .dataframe tbody tr th {\n",
       "        vertical-align: top;\n",
       "    }\n",
       "\n",
       "    .dataframe thead th {\n",
       "        text-align: right;\n",
       "    }\n",
       "</style>\n",
       "<table border=\"1\" class=\"dataframe\">\n",
       "  <thead>\n",
       "    <tr style=\"text-align: right;\">\n",
       "      <th></th>\n",
       "      <th>idannonce</th>\n",
       "      <th>typedebien</th>\n",
       "      <th>typedetransaction</th>\n",
       "      <th>codepostal</th>\n",
       "      <th>ville</th>\n",
       "      <th>etage</th>\n",
       "      <th>idtypechauffage</th>\n",
       "      <th>idtypecuisine</th>\n",
       "      <th>naturebien</th>\n",
       "      <th>si_balcon</th>\n",
       "      <th>nb_chambres</th>\n",
       "      <th>nb_pieces</th>\n",
       "      <th>si_sdbain</th>\n",
       "      <th>si_sdEau</th>\n",
       "      <th>nb_photos</th>\n",
       "      <th>surface</th>\n",
       "    </tr>\n",
       "  </thead>\n",
       "  <tbody>\n",
       "    <tr>\n",
       "      <td>338</td>\n",
       "      <td>151725417</td>\n",
       "      <td>Maison / Villa</td>\n",
       "      <td>['vente']</td>\n",
       "      <td>33800</td>\n",
       "      <td>bordeaux</td>\n",
       "      <td>0</td>\n",
       "      <td>individuel gaz radiateur</td>\n",
       "      <td>équipée</td>\n",
       "      <td>1</td>\n",
       "      <td>0</td>\n",
       "      <td>2</td>\n",
       "      <td>3</td>\n",
       "      <td>0</td>\n",
       "      <td>1</td>\n",
       "      <td>8</td>\n",
       "      <td>80.0</td>\n",
       "    </tr>\n",
       "    <tr>\n",
       "      <td>828</td>\n",
       "      <td>153138281</td>\n",
       "      <td>Maison / Villa</td>\n",
       "      <td>['vente de prestige']</td>\n",
       "      <td>33200</td>\n",
       "      <td>bordeaux</td>\n",
       "      <td>0</td>\n",
       "      <td>individuel</td>\n",
       "      <td>séparée équipée</td>\n",
       "      <td>1</td>\n",
       "      <td>0</td>\n",
       "      <td>5</td>\n",
       "      <td>7</td>\n",
       "      <td>1</td>\n",
       "      <td>1</td>\n",
       "      <td>7</td>\n",
       "      <td>192.0</td>\n",
       "    </tr>\n",
       "    <tr>\n",
       "      <td>2</td>\n",
       "      <td>153438365</td>\n",
       "      <td>Maison / Villa</td>\n",
       "      <td>['vente']</td>\n",
       "      <td>33000</td>\n",
       "      <td>bordeaux</td>\n",
       "      <td>0</td>\n",
       "      <td>individuel électrique</td>\n",
       "      <td>américaine équipée</td>\n",
       "      <td>1</td>\n",
       "      <td>0</td>\n",
       "      <td>2</td>\n",
       "      <td>3</td>\n",
       "      <td>0</td>\n",
       "      <td>1</td>\n",
       "      <td>16</td>\n",
       "      <td>46.0</td>\n",
       "    </tr>\n",
       "    <tr>\n",
       "      <td>296</td>\n",
       "      <td>144421875</td>\n",
       "      <td>Maison / Villa</td>\n",
       "      <td>['vente']</td>\n",
       "      <td>33200</td>\n",
       "      <td>bordeaux</td>\n",
       "      <td>0</td>\n",
       "      <td>individuel électrique</td>\n",
       "      <td>américaine</td>\n",
       "      <td>1</td>\n",
       "      <td>0</td>\n",
       "      <td>3</td>\n",
       "      <td>4</td>\n",
       "      <td>1</td>\n",
       "      <td>1</td>\n",
       "      <td>9</td>\n",
       "      <td>85.0</td>\n",
       "    </tr>\n",
       "    <tr>\n",
       "      <td>660</td>\n",
       "      <td>153138281</td>\n",
       "      <td>Maison / Villa</td>\n",
       "      <td>['vente de prestige']</td>\n",
       "      <td>33200</td>\n",
       "      <td>bordeaux</td>\n",
       "      <td>0</td>\n",
       "      <td>individuel</td>\n",
       "      <td>séparée équipée</td>\n",
       "      <td>1</td>\n",
       "      <td>0</td>\n",
       "      <td>5</td>\n",
       "      <td>7</td>\n",
       "      <td>1</td>\n",
       "      <td>1</td>\n",
       "      <td>7</td>\n",
       "      <td>192.0</td>\n",
       "    </tr>\n",
       "    <tr>\n",
       "      <td>...</td>\n",
       "      <td>...</td>\n",
       "      <td>...</td>\n",
       "      <td>...</td>\n",
       "      <td>...</td>\n",
       "      <td>...</td>\n",
       "      <td>...</td>\n",
       "      <td>...</td>\n",
       "      <td>...</td>\n",
       "      <td>...</td>\n",
       "      <td>...</td>\n",
       "      <td>...</td>\n",
       "      <td>...</td>\n",
       "      <td>...</td>\n",
       "      <td>...</td>\n",
       "      <td>...</td>\n",
       "      <td>...</td>\n",
       "    </tr>\n",
       "    <tr>\n",
       "      <td>71</td>\n",
       "      <td>150175397</td>\n",
       "      <td>Maison / Villa</td>\n",
       "      <td>['vente de prestige']</td>\n",
       "      <td>33200</td>\n",
       "      <td>bordeaux</td>\n",
       "      <td>0</td>\n",
       "      <td>gaz</td>\n",
       "      <td>0</td>\n",
       "      <td>1</td>\n",
       "      <td>0</td>\n",
       "      <td>5</td>\n",
       "      <td>6</td>\n",
       "      <td>1</td>\n",
       "      <td>1</td>\n",
       "      <td>9</td>\n",
       "      <td>160.0</td>\n",
       "    </tr>\n",
       "    <tr>\n",
       "      <td>106</td>\n",
       "      <td>147837739</td>\n",
       "      <td>Maison / Villa</td>\n",
       "      <td>['vente de prestige']</td>\n",
       "      <td>33000</td>\n",
       "      <td>bordeaux</td>\n",
       "      <td>0</td>\n",
       "      <td>climatisation réversible</td>\n",
       "      <td>équipée</td>\n",
       "      <td>1</td>\n",
       "      <td>1</td>\n",
       "      <td>3</td>\n",
       "      <td>5</td>\n",
       "      <td>1</td>\n",
       "      <td>1</td>\n",
       "      <td>11</td>\n",
       "      <td>105.0</td>\n",
       "    </tr>\n",
       "    <tr>\n",
       "      <td>270</td>\n",
       "      <td>150594971</td>\n",
       "      <td>Maison / Villa</td>\n",
       "      <td>['vente']</td>\n",
       "      <td>33000</td>\n",
       "      <td>bordeaux</td>\n",
       "      <td>0</td>\n",
       "      <td>central radiateur</td>\n",
       "      <td>américaine équipée</td>\n",
       "      <td>1</td>\n",
       "      <td>1</td>\n",
       "      <td>5</td>\n",
       "      <td>6</td>\n",
       "      <td>1</td>\n",
       "      <td>1</td>\n",
       "      <td>16</td>\n",
       "      <td>160.0</td>\n",
       "    </tr>\n",
       "    <tr>\n",
       "      <td>435</td>\n",
       "      <td>153138281</td>\n",
       "      <td>Maison / Villa</td>\n",
       "      <td>['vente de prestige']</td>\n",
       "      <td>33200</td>\n",
       "      <td>bordeaux</td>\n",
       "      <td>0</td>\n",
       "      <td>individuel</td>\n",
       "      <td>séparée équipée</td>\n",
       "      <td>1</td>\n",
       "      <td>0</td>\n",
       "      <td>5</td>\n",
       "      <td>7</td>\n",
       "      <td>1</td>\n",
       "      <td>1</td>\n",
       "      <td>7</td>\n",
       "      <td>192.0</td>\n",
       "    </tr>\n",
       "    <tr>\n",
       "      <td>102</td>\n",
       "      <td>155041843</td>\n",
       "      <td>Maison / Villa</td>\n",
       "      <td>['vente']</td>\n",
       "      <td>33000</td>\n",
       "      <td>bordeaux</td>\n",
       "      <td>0</td>\n",
       "      <td>0</td>\n",
       "      <td>0</td>\n",
       "      <td>1</td>\n",
       "      <td>0</td>\n",
       "      <td>3</td>\n",
       "      <td>4</td>\n",
       "      <td>1</td>\n",
       "      <td>0</td>\n",
       "      <td>5</td>\n",
       "      <td>63.0</td>\n",
       "    </tr>\n",
       "  </tbody>\n",
       "</table>\n",
       "<p>677 rows × 16 columns</p>\n",
       "</div>"
      ],
      "text/plain": [
       "     idannonce      typedebien      typedetransaction  codepostal     ville  \\\n",
       "338  151725417  Maison / Villa              ['vente']       33800  bordeaux   \n",
       "828  153138281  Maison / Villa  ['vente de prestige']       33200  bordeaux   \n",
       "2    153438365  Maison / Villa              ['vente']       33000  bordeaux   \n",
       "296  144421875  Maison / Villa              ['vente']       33200  bordeaux   \n",
       "660  153138281  Maison / Villa  ['vente de prestige']       33200  bordeaux   \n",
       "..         ...             ...                    ...         ...       ...   \n",
       "71   150175397  Maison / Villa  ['vente de prestige']       33200  bordeaux   \n",
       "106  147837739  Maison / Villa  ['vente de prestige']       33000  bordeaux   \n",
       "270  150594971  Maison / Villa              ['vente']       33000  bordeaux   \n",
       "435  153138281  Maison / Villa  ['vente de prestige']       33200  bordeaux   \n",
       "102  155041843  Maison / Villa              ['vente']       33000  bordeaux   \n",
       "\n",
       "     etage           idtypechauffage       idtypecuisine  naturebien  \\\n",
       "338      0  individuel gaz radiateur             équipée           1   \n",
       "828      0                individuel     séparée équipée           1   \n",
       "2        0     individuel électrique  américaine équipée           1   \n",
       "296      0     individuel électrique          américaine           1   \n",
       "660      0                individuel     séparée équipée           1   \n",
       "..     ...                       ...                 ...         ...   \n",
       "71       0                       gaz                   0           1   \n",
       "106      0  climatisation réversible             équipée           1   \n",
       "270      0         central radiateur  américaine équipée           1   \n",
       "435      0                individuel     séparée équipée           1   \n",
       "102      0                         0                   0           1   \n",
       "\n",
       "     si_balcon  nb_chambres  nb_pieces  si_sdbain  si_sdEau  nb_photos  \\\n",
       "338          0            2          3          0         1          8   \n",
       "828          0            5          7          1         1          7   \n",
       "2            0            2          3          0         1         16   \n",
       "296          0            3          4          1         1          9   \n",
       "660          0            5          7          1         1          7   \n",
       "..         ...          ...        ...        ...       ...        ...   \n",
       "71           0            5          6          1         1          9   \n",
       "106          1            3          5          1         1         11   \n",
       "270          1            5          6          1         1         16   \n",
       "435          0            5          7          1         1          7   \n",
       "102          0            3          4          1         0          5   \n",
       "\n",
       "     surface  \n",
       "338     80.0  \n",
       "828    192.0  \n",
       "2       46.0  \n",
       "296     85.0  \n",
       "660    192.0  \n",
       "..       ...  \n",
       "71     160.0  \n",
       "106    105.0  \n",
       "270    160.0  \n",
       "435    192.0  \n",
       "102     63.0  \n",
       "\n",
       "[677 rows x 16 columns]"
      ]
     },
     "execution_count": 18,
     "metadata": {},
     "output_type": "execute_result"
    }
   ],
   "source": [
    "X_train\n"
   ]
  },
  {
   "cell_type": "code",
   "execution_count": 19,
   "metadata": {},
   "outputs": [],
   "source": [
    "model.fit(X_train,y_train);"
   ]
  },
  {
   "cell_type": "code",
   "execution_count": 20,
   "metadata": {},
   "outputs": [
    {
     "name": "stdout",
     "output_type": "stream",
     "text": [
      "r2=0.865325921980671\n",
      "rmse=72779.29259079577\n"
     ]
    },
    {
     "data": {
      "image/png": "[encoded data removed]",
      "text/plain": [
       "<Figure size 432x288 with 1 Axes>"
      ]
     },
     "metadata": {
      "needs_background": "light"
     },
     "output_type": "display_data"
    }
   ],
   "source": [
    "y_valid_pred = model.predict(X_valid)\n",
    "r2 = r2_score(y_valid, y_valid_pred)\n",
    "rmse = np.sqrt(mean_squared_error(y_valid, y_valid_pred))\n",
    "print(f'r2={r2}\\nrmse={rmse}')\n",
    "sns.scatterplot(y_valid, y_valid_pred);"
   ]
  },
  {
   "cell_type": "code",
   "execution_count": null,
   "metadata": {},
   "outputs": [],
   "source": []
  },
  {
   "cell_type": "code",
   "execution_count": null,
   "metadata": {},
   "outputs": [],
   "source": []
  }
 ],
 "metadata": {
  "kernelspec": {
   "display_name": "Python 3",
   "language": "python",
   "name": "python3"
  },
  "language_info": {
   "codemirror_mode": {
    "name": "ipython",
    "version": 3
   },
   "file_extension": ".py",
   "mimetype": "text/x-python",
   "name": "python",
   "nbconvert_exporter": "python",
   "pygments_lexer": "ipython3",
   "version": "3.8.1"
  },
  "toc": {
   "base_numbering": "1",
   "nav_menu": {},
   "number_sections": true,
   "sideBar": true,
   "skip_h1_title": true,
   "title_cell": "Table of Contents",
   "title_sidebar": "Contents",
   "toc_cell": true,
   "toc_position": {},
   "toc_section_display": true,
   "toc_window_display": false
  }
 },
 "nbformat": 4,
 "nbformat_minor": 2
}
